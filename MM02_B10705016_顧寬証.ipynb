{
 "cells": [
  {
   "cell_type": "markdown",
   "id": "cc1d27b0",
   "metadata": {},
   "source": [
    "$$\\text{Manangement Mathematics}$$\n",
    "$$\\text{Assignment 2}$$"
   ]
  },
  {
   "cell_type": "markdown",
   "id": "10bbc507",
   "metadata": {},
   "source": [
    "![](https://i.imgur.com/85sjuCz.png)\n",
    "![](https://i.imgur.com/Pv1KFL0.png)\n",
    "![](https://i.imgur.com/4DgSK6K.png)"
   ]
  },
  {
   "cell_type": "markdown",
   "id": "9115079d",
   "metadata": {},
   "source": [
    "$\\text{Import modules.}$"
   ]
  },
  {
   "cell_type": "code",
   "execution_count": 1,
   "id": "feff2c6c",
   "metadata": {},
   "outputs": [],
   "source": [
    "import numpy as np\n",
    "import pandas as pd\n",
    "import random\n",
    "import matplotlib.pyplot as plt\n",
    "from sklearn.linear_model import LinearRegression\n",
    "import statsmodels.formula.api as sm"
   ]
  },
  {
   "cell_type": "markdown",
   "id": "587553ac",
   "metadata": {},
   "source": [
    "$\\text{Define some constants and helper functions with the given formulas or demands}$"
   ]
  },
  {
   "cell_type": "code",
   "execution_count": 2,
   "id": "7257b7f0",
   "metadata": {},
   "outputs": [],
   "source": [
    "N: int = 2000\n",
    "TRUE_SIGMA = .5\n",
    "FIGSIZE: tuple[int, int] = (16, 6)    \n",
    "    \n",
    "def matrix_minor(arr, i, j):\n",
    "    return np.delete(np.delete(arr, i, axis=0), j, axis=1)    \n",
    "\n",
    "def make_cofactor_matrix(A: np.matrix) -> np.matrix:\n",
    "    dim = A.shape\n",
    "    return np.matrix(\n",
    "        [ \n",
    "            [ \n",
    "                ((-1) ** (i+j+2)) * np.linalg.det(matrix_minor(A, i, j)) for j in range(dim[1])\n",
    "            ] for i in range(dim[0]) \n",
    "        ]\n",
    "    )\n",
    "\n",
    "def make_adjoint_matrix(A: np.matrix) -> np.matrix:\n",
    "    return make_cofactor_matrix(A).T\n",
    "\n",
    "def make_inverse_matrix(A: np.matrix) -> np.matrix:\n",
    "    return (1 / np.linalg.det(A)) * make_cofactor_matrix(A).T\n",
    "\n",
    "def chance(prob: float) -> bool:\n",
    "    threshold = prob * 100\n",
    "    return random.randrange(0, 100) <= threshold\n",
    "\n",
    "def generate_hs_math_GPA(raw_gpa: float) -> float:\n",
    "    return round(max(2.0, min(raw_gpa, 4.0)), 1)\n",
    "\n",
    "def generate_took_hs_calc(hs_math_GPA: float) ->  int:\n",
    "    return 1 if np.random.normal(3, 0.5) <= hs_math_GPA else 0\n",
    "\n",
    "def generate_took_precalc(params: tuple[int, float]) -> int:\n",
    "    took_hs_calc, hs_math_GPA = params\n",
    "    if took_hs_calc and hs_math_GPA > 3:\n",
    "        return 1 if chance(.2) else 0\n",
    "    if took_hs_calc or hs_math_GPA > 3:\n",
    "        return 1 if chance(.4) else 0\n",
    "    return 1 if chance(.8) else 0\n",
    "    \n",
    "def generate_NTU_calc_GPA(params: tuple[float, int, int]) -> float:\n",
    "    hs_math_GPA, took_hs_calc, took_precalc = params\n",
    "    bias: float = np.random.normal(0, TRUE_SIGMA)\n",
    "    base: float = 0.3\n",
    "    raw_grade: float = (\n",
    "                     base \n",
    "                     + .7 * hs_math_GPA \n",
    "                     + .3 * took_hs_calc \n",
    "                     + .1 * took_precalc \n",
    "                     + bias\n",
    "    )\n",
    "    return .0 if raw_grade < .7 else round(raw_grade, 1)\n",
    "\n",
    "def make_data_hs_math_GPA() -> list[float]:\n",
    "    return list(map(generate_hs_math_GPA, np.random.normal(3.5, 0.5, N)))\n",
    "\n",
    "def make_data_took_hs_calc(data_hs_math_GPA: list[float]) -> list[int]:\n",
    "    return list(map(generate_took_hs_calc, data_hs_math_GPA))\n",
    "\n",
    "def make_data_took_precalc(\n",
    "    data_hs_math_GPA: list[float], \n",
    "    data_took_hs_calc: list[int]\n",
    ") -> list[int]:\n",
    "    return list(map(generate_took_precalc, zip(data_took_hs_calc, data_hs_math_GPA)))\n",
    "\n",
    "def make_data_NTU_calc_GPA(\n",
    "    data_hs_math_GPA: list[float], \n",
    "    data_took_hs_calc: list[int], \n",
    "    data_took_precalc: list[int]\n",
    ") -> list[float]:\n",
    "    return list(\n",
    "        map(\n",
    "            generate_NTU_calc_GPA, \n",
    "            zip(data_hs_math_GPA, data_took_hs_calc, data_took_precalc)\n",
    "        )\n",
    "    )\n",
    "\n",
    "HEX_POOL: list[str] = [*map(str, range(0, 10)), 'a', 'b', 'c', 'd', 'e', 'f']\n",
    "def generate_random_rgb_color() -> tuple[int, int, int]:\n",
    "    return f'#{\"\".join(map(str, (random.choice(HEX_POOL) for _ in range(6))))}'"
   ]
  },
  {
   "cell_type": "markdown",
   "id": "607891a7",
   "metadata": {},
   "source": [
    "$\\text{Generate dataset of independent variables with the helper functions above.}$"
   ]
  },
  {
   "cell_type": "code",
   "execution_count": 3,
   "id": "1dde951a",
   "metadata": {},
   "outputs": [],
   "source": [
    "indep_hs_math_GPA : list[float] = make_data_hs_math_GPA()\n",
    "indep_took_hs_calc: list[int]   = make_data_took_hs_calc(indep_hs_math_GPA)\n",
    "indep_took_precalc: list[int]   = make_data_took_precalc(indep_hs_math_GPA, indep_took_hs_calc)"
   ]
  },
  {
   "cell_type": "markdown",
   "id": "56e3c184",
   "metadata": {},
   "source": [
    "$\\text{Showcase the dataset we've generated above.}$"
   ]
  },
  {
   "cell_type": "code",
   "execution_count": 4,
   "id": "db952cd9",
   "metadata": {},
   "outputs": [
    {
     "data": {
      "image/png": "[encoded data removed]",
      "text/plain": [
       "<Figure size 1152x432 with 3 Axes>"
      ]
     },
     "metadata": {
      "needs_background": "light"
     },
     "output_type": "display_data"
    }
   ],
   "source": [
    "fig = plt.figure(figsize=FIGSIZE)\n",
    "ax1, ax2, ax3 = [ fig.add_subplot(1, 3, i) for i in range(1, 4) ]\n",
    "\n",
    "\n",
    "X1 = [ s * .1 for s in range(0, 41) ]\n",
    "Y1 = [ indep_hs_math_GPA.count(s * .1) for s in range(0, 41) ]\n",
    "\n",
    "X2 = [ 0, 1 ]\n",
    "Y2 = [ indep_took_hs_calc.count(0), indep_took_hs_calc.count(1) ]\n",
    "\n",
    "X3 = [ 0, 1 ]\n",
    "Y3 = [ indep_took_precalc.count(0), indep_took_precalc.count(1) ]\n",
    "\n",
    "ax1.bar(X1, Y1, width=.3)\n",
    "ax2.bar(X2, Y2, width=.3)\n",
    "ax3.bar(X3, Y3, width=.3)\n",
    "\n",
    "ax1.set_xlim(1.9, 4.1)\n",
    "ax2.set_xlim(-1, 2)\n",
    "ax3.set_xlim(-1, 2)\n",
    "\n",
    "ax1.set_title('High School Math GPA Dataset')\n",
    "ax2.set_title('Took High School Calculus Dataset')\n",
    "ax3.set_title('Took NTU Precalculus Dataset')\n",
    "\n",
    "plt.show()"
   ]
  },
  {
   "cell_type": "markdown",
   "id": "fcee6861",
   "metadata": {},
   "source": [
    "$\\text{We then make the dataset of the dependent variable with the three independent variales.}$\n",
    "\n",
    "$\\text{The formula for the independent variable is}$\n",
    "\n",
    "$$\\text{NTU_calc_GPA}=0.3+0.7\\text{HS_math_GPA}+0.3\\text{HS_calc}+0.1\\text{NTU_precalc}+\\varepsilon$$\n",
    "\n",
    "$\\text{where }\\varepsilon=\\text{Normal}(\\text{mean}=0, \\text{Standard Deviation}=0.5)$"
   ]
  },
  {
   "cell_type": "code",
   "execution_count": 5,
   "id": "4d9e0225",
   "metadata": {},
   "outputs": [],
   "source": [
    "dep_NTU_calc_GPA: list[float] = make_data_NTU_calc_GPA(indep_hs_math_GPA, indep_took_hs_calc, indep_took_precalc)"
   ]
  },
  {
   "cell_type": "markdown",
   "id": "3a6ba9a0",
   "metadata": {},
   "source": [
    "$\\text{Showcase the dataset we've generated above.}$"
   ]
  },
  {
   "cell_type": "code",
   "execution_count": 6,
   "id": "d8bd0492",
   "metadata": {},
   "outputs": [
    {
     "data": {
      "image/png": "[encoded data removed]",
      "text/plain": [
       "<Figure size 288x288 with 1 Axes>"
      ]
     },
     "metadata": {
      "needs_background": "light"
     },
     "output_type": "display_data"
    }
   ],
   "source": [
    "fig = plt.figure(figsize=(4,4))\n",
    "ax = fig.add_subplot(1, 1, 1)\n",
    "X = [ s * .1 for s in range(0, 41) ]\n",
    "Y = [ dep_NTU_calc_GPA.count(s * .1) for s in range(0, 41) ]\n",
    "ax.bar(X, Y, width=.3)\n",
    "ax.set_xlim(-.1, 4.1)\n",
    "ax.set_title('NTU Calculus GPA Dataset')\n",
    "plt.show()"
   ]
  },
  {
   "cell_type": "markdown",
   "id": "c0f760c8",
   "metadata": {},
   "source": [
    "![](https://i.imgur.com/z0EXWZb.png)"
   ]
  },
  {
   "cell_type": "markdown",
   "id": "004954ba",
   "metadata": {},
   "source": [
    "$\\text{Before we use the linear model to fit the data, let's take a peek at the correlations bewteen the independent variables and the dependent variable.}$"
   ]
  },
  {
   "cell_type": "code",
   "execution_count": 7,
   "id": "b6fc4b69",
   "metadata": {},
   "outputs": [],
   "source": [
    "calc_dict = {\n",
    "    'NTU_Calculus_GPA':          dep_NTU_calc_GPA,\n",
    "    'High_School_Math_GPA':      indep_hs_math_GPA,\n",
    "    'Took_High_School_Calculus': indep_took_hs_calc,\n",
    "    'Took_NTU_Precalculus':      indep_took_precalc,\n",
    "}"
   ]
  },
  {
   "cell_type": "code",
   "execution_count": 8,
   "id": "11f8945d",
   "metadata": {},
   "outputs": [
    {
     "data": {
      "image/png": "[encoded data removed]",
      "text/plain": [
       "<Figure size 1152x432 with 1 Axes>"
      ]
     },
     "metadata": {
      "needs_background": "light"
     },
     "output_type": "display_data"
    }
   ],
   "source": [
    "fig = plt.figure(figsize=FIGSIZE)\n",
    "ax1 = fig.add_subplot(1, 1, 1)\n",
    "\n",
    "for k, v in calc_dict.items():\n",
    "    if k == 'NTU_Calculus_GPA': continue\n",
    "    ax1.scatter(v, calc_dict['NTU_Calculus_GPA'], marker=random.randrange(0, 12), c=generate_random_rgb_color(), label=f'x: {k}')\n",
    "\n",
    "ax1.set_title('y: NTU Calculus GPA')\n",
    "plt.legend(loc='upper center')\n",
    "plt.show()"
   ]
  },
  {
   "cell_type": "markdown",
   "id": "e3ebddfd",
   "metadata": {},
   "source": [
    "$\\text{Now, we want to find the best fit line of the 3 pairs of variables.}$\n",
    "\n",
    "$\\text{So, I use polyfit from NumPy which allows you to fit a pair of variables with given degree.}$\n",
    "\n",
    "$\\text{Since we are trying to fit the data linearly, so we of course designate the degree to be 1.}$"
   ]
  },
  {
   "cell_type": "code",
   "execution_count": 9,
   "id": "916fe239",
   "metadata": {},
   "outputs": [
    {
     "data": {
      "text/plain": [
       "{'NTU_Calculus_GPA': array([1.00000000e+00, 6.35528743e-16]),\n",
       " 'High_School_Math_GPA': array([0.84229537, 0.05101571]),\n",
       " 'Took_High_School_Calculus': array([0.67221385, 2.46303419]),\n",
       " 'Took_NTU_Precalculus': array([-0.24785148,  3.0540404 ])}"
      ]
     },
     "execution_count": 9,
     "metadata": {},
     "output_type": "execute_result"
    }
   ],
   "source": [
    "regressions = { k: np.polyfit(v, calc_dict['NTU_Calculus_GPA'], deg=1) for k, v in calc_dict.items() }\n",
    "regressions"
   ]
  },
  {
   "cell_type": "markdown",
   "id": "51bf8da2",
   "metadata": {},
   "source": [
    "$\\text{The returned np.array }A\\text{ has the following meaning}$\n",
    "\n",
    "$$\n",
    "A[i]=\\left\\{\n",
    "    \\begin{matrix}\n",
    "        \\text{Slope of the best fit line} & \\text{ if } & i=0 \\\\\n",
    "        \\text{y-intercept of the best fit line} & \\text{ if } & i=1\n",
    "    \\end{matrix}\n",
    "\\right.\n",
    "$$\n",
    "\n",
    "$\\text{Though we obtained the results correctly, we only have a vague idea of it.}$\n",
    "\n",
    "$\\text{Why not plot them on the graph as well?}$"
   ]
  },
  {
   "cell_type": "code",
   "execution_count": 10,
   "id": "de8e48e0",
   "metadata": {},
   "outputs": [
    {
     "data": {
      "image/png": "[encoded data removed]",
      "text/plain": [
       "<Figure size 1152x432 with 1 Axes>"
      ]
     },
     "metadata": {
      "needs_background": "light"
     },
     "output_type": "display_data"
    }
   ],
   "source": [
    "fig = plt.figure(figsize=FIGSIZE)\n",
    "ax1 = fig.add_subplot(1, 1, 1)\n",
    "\n",
    "for k, v in calc_dict.items():\n",
    "    if k == 'NTU_Calculus_GPA': continue\n",
    "    ax1.scatter(\n",
    "        v, calc_dict['NTU_Calculus_GPA'], \n",
    "        marker=random.randrange(0, 12), \n",
    "        c=generate_random_rgb_color(), \n",
    "        label=f'x: {k}'\n",
    "    )\n",
    "    ax1.plot(\n",
    "         v, np.polyval(regressions[k], v), \n",
    "         c=generate_random_rgb_color(), \n",
    "         label=f'Best fit line of {k}'\n",
    "    )\n",
    "\n",
    "ax1.set_title('y: NTU Calculus GPA')\n",
    "plt.legend(loc='upper center')\n",
    "plt.show()"
   ]
  },
  {
   "cell_type": "markdown",
   "id": "0377ee2a",
   "metadata": {},
   "source": [
    "$\\text{Observations:}$\n",
    "\n",
    "$\\text{Interestingly, there exist a negative corelation between the Took_NTU_Precalculus and the NTU_Calculus_GPA.}$\n",
    "\n",
    "$\\text{At the first glance, I thought the test dataset was erroneous or there was something off in my code.}$\n",
    "\n",
    "$\\text{However, after a good thought and a deeper look into the testing data generating formula, it turned out that it actually makes a lot of sense!}$\n",
    "\n",
    "$\\text{Here's why:}$\n",
    "\n",
    "$\\text{In the formula}$\n",
    "\n",
    "$$\\text{NTU_calc_GPA}=0.3+0.7\\text{HS_math_GPA}+0.3\\text{HS_calc}+0.1\\text{NTU_precalc}+\\varepsilon$$\n",
    "\n",
    "$\\text{The coefficient (weight) of the NTU_precalc is }0.1.$\n",
    "\n",
    "$\\text{Seemingly causing them postively correlated.}$\n",
    "\n",
    "$\\text{However, when generating the dataset,}$\n",
    "$\\text{there is much higher chance for students who either}$\n",
    "$\\text{hadn't took calculus in high school, had bad math GPA in high school or both to take the precalculus in NTU.}$\n",
    "\n",
    "$\\text{More specifically, the following chart illustrates the relation between}$\n",
    "$\\text{the students' stats and the probability of taking the precalculus course in NTU.}$\n",
    "\n",
    "| $$\\text{Stats}$$      | $\\text{Took_HS_calc}=0$ | $\\text{Took_HS_calc}=1$ |\n",
    "| -------- | -------- | -------- |\n",
    "| $\\text{HS_math_GPA}>3$     | $$0.4$$     | $$0.2$$    |\n",
    "| $\\text{HS_math_GPA}\\le3$   | $$0.8$$     | $$0.4$$    |\n",
    "\n",
    "$\\text{Therefore, students who take the precalculus course in NTU has a much higher chance of having relatively low stats}$\n",
    "\n",
    "$\\text{That is, although taking the precalculus has positive effect on their Calculus GPA in NTU,}$\n",
    "$\\text{but students who took the course were far behind those who didn't.}$\n",
    "\n",
    "$\\text{In short, the course is not effective enough to make students get better GPA than those who didn't take the course.}$\n",
    "\n",
    "$\\text{It's quite interseting to know,}$\n",
    "\n",
    "$\\text{not every variable in the formula that has a positive coefficient has positive correlation with the dependent variable.}$\n",
    "\n",
    "$\\text{So, we should be more aware of the possibility of such happening so that we don't make errorneous analysis or judgement on the data.}$"
   ]
  },
  {
   "cell_type": "markdown",
   "id": "6ac71a0b",
   "metadata": {},
   "source": [
    "$\\text{Now let's try to fit the data with a linear model with the formula that follows}$\n",
    "\n",
    "$$\\text{NTU Calculus GPA }\\sim\\text{High School Math GPA}+\\text{Took High School Calculus}+\\text{Took NTU Precalculus}$$"
   ]
  },
  {
   "cell_type": "code",
   "execution_count": 11,
   "id": "1af620c4",
   "metadata": {},
   "outputs": [
    {
     "data": {
      "text/plain": [
       "'NTU_Calculus_GPA ~ High_School_Math_GPA + Took_High_School_Calculus + Took_NTU_Precalculus'"
      ]
     },
     "execution_count": 11,
     "metadata": {},
     "output_type": "execute_result"
    }
   ],
   "source": [
    "model_formula = ' + '.join(calc_dict.keys()).replace('+', '~', 1)\n",
    "\n",
    "model_formula"
   ]
  },
  {
   "cell_type": "markdown",
   "id": "c55934b8",
   "metadata": {},
   "source": [
    "$\\text{We prepare a dataframe for the model to fit.}$"
   ]
  },
  {
   "cell_type": "code",
   "execution_count": 12,
   "id": "7e0fc38e",
   "metadata": {},
   "outputs": [
    {
     "data": {
      "text/html": [
       "<div>\n",
       "<style scoped>\n",
       "    .dataframe tbody tr th:only-of-type {\n",
       "        vertical-align: middle;\n",
       "    }\n",
       "\n",
       "    .dataframe tbody tr th {\n",
       "        vertical-align: top;\n",
       "    }\n",
       "\n",
       "    .dataframe thead th {\n",
       "        text-align: right;\n",
       "    }\n",
       "</style>\n",
       "<table border=\"1\" class=\"dataframe\">\n",
       "  <thead>\n",
       "    <tr style=\"text-align: right;\">\n",
       "      <th></th>\n",
       "      <th>NTU_Calculus_GPA</th>\n",
       "      <th>High_School_Math_GPA</th>\n",
       "      <th>Took_High_School_Calculus</th>\n",
       "      <th>Took_NTU_Precalculus</th>\n",
       "    </tr>\n",
       "  </thead>\n",
       "  <tbody>\n",
       "    <tr>\n",
       "      <th>1</th>\n",
       "      <td>2.5</td>\n",
       "      <td>3.4</td>\n",
       "      <td>0</td>\n",
       "      <td>0</td>\n",
       "    </tr>\n",
       "    <tr>\n",
       "      <th>2</th>\n",
       "      <td>3.5</td>\n",
       "      <td>4.0</td>\n",
       "      <td>1</td>\n",
       "      <td>1</td>\n",
       "    </tr>\n",
       "    <tr>\n",
       "      <th>3</th>\n",
       "      <td>4.4</td>\n",
       "      <td>3.8</td>\n",
       "      <td>1</td>\n",
       "      <td>0</td>\n",
       "    </tr>\n",
       "    <tr>\n",
       "      <th>4</th>\n",
       "      <td>3.9</td>\n",
       "      <td>4.0</td>\n",
       "      <td>1</td>\n",
       "      <td>0</td>\n",
       "    </tr>\n",
       "    <tr>\n",
       "      <th>5</th>\n",
       "      <td>3.3</td>\n",
       "      <td>3.2</td>\n",
       "      <td>1</td>\n",
       "      <td>0</td>\n",
       "    </tr>\n",
       "    <tr>\n",
       "      <th>...</th>\n",
       "      <td>...</td>\n",
       "      <td>...</td>\n",
       "      <td>...</td>\n",
       "      <td>...</td>\n",
       "    </tr>\n",
       "    <tr>\n",
       "      <th>1996</th>\n",
       "      <td>2.5</td>\n",
       "      <td>2.6</td>\n",
       "      <td>0</td>\n",
       "      <td>1</td>\n",
       "    </tr>\n",
       "    <tr>\n",
       "      <th>1997</th>\n",
       "      <td>2.6</td>\n",
       "      <td>3.0</td>\n",
       "      <td>0</td>\n",
       "      <td>1</td>\n",
       "    </tr>\n",
       "    <tr>\n",
       "      <th>1998</th>\n",
       "      <td>3.5</td>\n",
       "      <td>3.8</td>\n",
       "      <td>1</td>\n",
       "      <td>0</td>\n",
       "    </tr>\n",
       "    <tr>\n",
       "      <th>1999</th>\n",
       "      <td>3.9</td>\n",
       "      <td>3.5</td>\n",
       "      <td>1</td>\n",
       "      <td>0</td>\n",
       "    </tr>\n",
       "    <tr>\n",
       "      <th>2000</th>\n",
       "      <td>3.0</td>\n",
       "      <td>3.5</td>\n",
       "      <td>1</td>\n",
       "      <td>1</td>\n",
       "    </tr>\n",
       "  </tbody>\n",
       "</table>\n",
       "<p>2000 rows × 4 columns</p>\n",
       "</div>"
      ],
      "text/plain": [
       "      NTU_Calculus_GPA  High_School_Math_GPA  Took_High_School_Calculus  \\\n",
       "1                  2.5                   3.4                          0   \n",
       "2                  3.5                   4.0                          1   \n",
       "3                  4.4                   3.8                          1   \n",
       "4                  3.9                   4.0                          1   \n",
       "5                  3.3                   3.2                          1   \n",
       "...                ...                   ...                        ...   \n",
       "1996               2.5                   2.6                          0   \n",
       "1997               2.6                   3.0                          0   \n",
       "1998               3.5                   3.8                          1   \n",
       "1999               3.9                   3.5                          1   \n",
       "2000               3.0                   3.5                          1   \n",
       "\n",
       "      Took_NTU_Precalculus  \n",
       "1                        0  \n",
       "2                        1  \n",
       "3                        0  \n",
       "4                        0  \n",
       "5                        0  \n",
       "...                    ...  \n",
       "1996                     1  \n",
       "1997                     1  \n",
       "1998                     0  \n",
       "1999                     0  \n",
       "2000                     1  \n",
       "\n",
       "[2000 rows x 4 columns]"
      ]
     },
     "execution_count": 12,
     "metadata": {},
     "output_type": "execute_result"
    }
   ],
   "source": [
    "calc_df = pd.DataFrame(calc_dict, index=range(1, N+1))\n",
    "\n",
    "calc_df"
   ]
  },
  {
   "cell_type": "code",
   "execution_count": 13,
   "id": "7ab88b06",
   "metadata": {},
   "outputs": [
    {
     "data": {
      "text/html": [
       "<table class=\"simpletable\">\n",
       "<caption>OLS Regression Results</caption>\n",
       "<tr>\n",
       "  <th>Dep. Variable:</th>    <td>NTU_Calculus_GPA</td> <th>  R-squared:         </th> <td>   0.369</td> \n",
       "</tr>\n",
       "<tr>\n",
       "  <th>Model:</th>                   <td>OLS</td>       <th>  Adj. R-squared:    </th> <td>   0.368</td> \n",
       "</tr>\n",
       "<tr>\n",
       "  <th>Method:</th>             <td>Least Squares</td>  <th>  F-statistic:       </th> <td>   388.8</td> \n",
       "</tr>\n",
       "<tr>\n",
       "  <th>Date:</th>             <td>Wed, 27 Apr 2022</td> <th>  Prob (F-statistic):</th> <td>7.33e-199</td>\n",
       "</tr>\n",
       "<tr>\n",
       "  <th>Time:</th>                 <td>02:29:56</td>     <th>  Log-Likelihood:    </th> <td> -1449.3</td> \n",
       "</tr>\n",
       "<tr>\n",
       "  <th>No. Observations:</th>      <td>  2000</td>      <th>  AIC:               </th> <td>   2907.</td> \n",
       "</tr>\n",
       "<tr>\n",
       "  <th>Df Residuals:</th>          <td>  1996</td>      <th>  BIC:               </th> <td>   2929.</td> \n",
       "</tr>\n",
       "<tr>\n",
       "  <th>Df Model:</th>              <td>     3</td>      <th>                     </th>     <td> </td>    \n",
       "</tr>\n",
       "<tr>\n",
       "  <th>Covariance Type:</th>      <td>nonrobust</td>    <th>                     </th>     <td> </td>    \n",
       "</tr>\n",
       "</table>\n",
       "<table class=\"simpletable\">\n",
       "<tr>\n",
       "              <td></td>                 <th>coef</th>     <th>std err</th>      <th>t</th>      <th>P>|t|</th>  <th>[0.025</th>    <th>0.975]</th>  \n",
       "</tr>\n",
       "<tr>\n",
       "  <th>Intercept</th>                 <td>    0.2487</td> <td>    0.101</td> <td>    2.453</td> <td> 0.014</td> <td>    0.050</td> <td>    0.448</td>\n",
       "</tr>\n",
       "<tr>\n",
       "  <th>High_School_Math_GPA</th>      <td>    0.7062</td> <td>    0.031</td> <td>   22.768</td> <td> 0.000</td> <td>    0.645</td> <td>    0.767</td>\n",
       "</tr>\n",
       "<tr>\n",
       "  <th>Took_High_School_Calculus</th> <td>    0.3213</td> <td>    0.033</td> <td>    9.823</td> <td> 0.000</td> <td>    0.257</td> <td>    0.385</td>\n",
       "</tr>\n",
       "<tr>\n",
       "  <th>Took_NTU_Precalculus</th>      <td>    0.0946</td> <td>    0.027</td> <td>    3.528</td> <td> 0.000</td> <td>    0.042</td> <td>    0.147</td>\n",
       "</tr>\n",
       "</table>\n",
       "<table class=\"simpletable\">\n",
       "<tr>\n",
       "  <th>Omnibus:</th>       <td> 0.800</td> <th>  Durbin-Watson:     </th> <td>   2.132</td>\n",
       "</tr>\n",
       "<tr>\n",
       "  <th>Prob(Omnibus):</th> <td> 0.670</td> <th>  Jarque-Bera (JB):  </th> <td>   0.715</td>\n",
       "</tr>\n",
       "<tr>\n",
       "  <th>Skew:</th>          <td>-0.004</td> <th>  Prob(JB):          </th> <td>   0.699</td>\n",
       "</tr>\n",
       "<tr>\n",
       "  <th>Kurtosis:</th>      <td> 3.092</td> <th>  Cond. No.          </th> <td>    35.5</td>\n",
       "</tr>\n",
       "</table><br/><br/>Notes:<br/>[1] Standard Errors assume that the covariance matrix of the errors is correctly specified."
      ],
      "text/plain": [
       "<class 'statsmodels.iolib.summary.Summary'>\n",
       "\"\"\"\n",
       "                            OLS Regression Results                            \n",
       "==============================================================================\n",
       "Dep. Variable:       NTU_Calculus_GPA   R-squared:                       0.369\n",
       "Model:                            OLS   Adj. R-squared:                  0.368\n",
       "Method:                 Least Squares   F-statistic:                     388.8\n",
       "Date:                Wed, 27 Apr 2022   Prob (F-statistic):          7.33e-199\n",
       "Time:                        02:29:56   Log-Likelihood:                -1449.3\n",
       "No. Observations:                2000   AIC:                             2907.\n",
       "Df Residuals:                    1996   BIC:                             2929.\n",
       "Df Model:                           3                                         \n",
       "Covariance Type:            nonrobust                                         \n",
       "=============================================================================================\n",
       "                                coef    std err          t      P>|t|      [0.025      0.975]\n",
       "---------------------------------------------------------------------------------------------\n",
       "Intercept                     0.2487      0.101      2.453      0.014       0.050       0.448\n",
       "High_School_Math_GPA          0.7062      0.031     22.768      0.000       0.645       0.767\n",
       "Took_High_School_Calculus     0.3213      0.033      9.823      0.000       0.257       0.385\n",
       "Took_NTU_Precalculus          0.0946      0.027      3.528      0.000       0.042       0.147\n",
       "==============================================================================\n",
       "Omnibus:                        0.800   Durbin-Watson:                   2.132\n",
       "Prob(Omnibus):                  0.670   Jarque-Bera (JB):                0.715\n",
       "Skew:                          -0.004   Prob(JB):                        0.699\n",
       "Kurtosis:                       3.092   Cond. No.                         35.5\n",
       "==============================================================================\n",
       "\n",
       "Notes:\n",
       "[1] Standard Errors assume that the covariance matrix of the errors is correctly specified.\n",
       "\"\"\""
      ]
     },
     "execution_count": 13,
     "metadata": {},
     "output_type": "execute_result"
    }
   ],
   "source": [
    "result = sm.ols(formula=model_formula, data=calc_df).fit()\n",
    "\n",
    "result.summary()"
   ]
  },
  {
   "cell_type": "markdown",
   "id": "ea67db3a",
   "metadata": {},
   "source": [
    "$\\text{We can extract the parameters of the fitted formula with }$ `result.params`"
   ]
  },
  {
   "cell_type": "code",
   "execution_count": 14,
   "id": "c62f1ac6",
   "metadata": {},
   "outputs": [
    {
     "data": {
      "text/plain": [
       "Intercept                    0.248724\n",
       "High_School_Math_GPA         0.706213\n",
       "Took_High_School_Calculus    0.321336\n",
       "Took_NTU_Precalculus         0.094554\n",
       "dtype: float64"
      ]
     },
     "execution_count": 14,
     "metadata": {},
     "output_type": "execute_result"
    }
   ],
   "source": [
    "result.params"
   ]
  },
  {
   "cell_type": "code",
   "execution_count": 15,
   "id": "52556c98",
   "metadata": {},
   "outputs": [],
   "source": [
    "def lm_predict(A: np.array) -> np.array:\n",
    "    return A.dot(np.array(result.params))"
   ]
  },
  {
   "cell_type": "markdown",
   "id": "3b0165b6",
   "metadata": {},
   "source": [
    "$\\text{Now, let's set up the matrix }\\mathbf X$\n",
    "\n",
    "$\\text{The designed matrix }\\mathbf X\\text{ is defined as follows}$\n",
    "\n",
    "$$\n",
    "\\mathbf{X}= \n",
    "\\left[ \n",
    "    \\begin{array}{ccccc} \n",
    "        1 & x_{11} & x_{12} & \\ldots & x_{1p} \\\\ \n",
    "        1 & x_{21} & x_{22} & \\ldots & x_{2p} \\\\ \n",
    "        1 & x_{31} & x_{32} & \\ldots & x_{3p} \\\\\n",
    "        \\vdots & \\vdots & \\vdots & \\ddots & \\vdots \\\\ \n",
    "        1 & x_{n1} & x_{n2} & \\ldots & x_{np} \n",
    "    \\end{array} \n",
    "\\right]\n",
    "$$\n",
    "\n",
    "$\\text{where, in our case, }n=2000\\text{ and }p=3\\text{ since we have three sets of independent variables with size of }2000.$"
   ]
  },
  {
   "cell_type": "code",
   "execution_count": 16,
   "id": "af11d32d",
   "metadata": {},
   "outputs": [
    {
     "data": {
      "text/plain": [
       "matrix([[1. , 3.4, 0. , 0. ],\n",
       "        [1. , 4. , 1. , 1. ],\n",
       "        [1. , 3.8, 1. , 0. ],\n",
       "        ...,\n",
       "        [1. , 3.8, 1. , 0. ],\n",
       "        [1. , 3.5, 1. , 0. ],\n",
       "        [1. , 3.5, 1. , 1. ]])"
      ]
     },
     "execution_count": 16,
     "metadata": {},
     "output_type": "execute_result"
    }
   ],
   "source": [
    "first_col = np.ones(2000)\n",
    "X = np.c_[first_col, indep_hs_math_GPA, indep_took_hs_calc, indep_took_precalc]\n",
    "X = np.matrix(X)\n",
    "\n",
    "X"
   ]
  },
  {
   "cell_type": "markdown",
   "id": "f16a971a",
   "metadata": {},
   "source": [
    "$\\text{Now set up the vector }\\mathbf y$\n",
    "\n",
    "$\\text{Vector }\\mathbf y\\text{ is defined as follows}$\n",
    "\n",
    "$$\n",
    "\\mathbf{y}= \n",
    "\\left[ \n",
    "    \\begin{array}{ccccc} \n",
    "        y_1  \\\\ \n",
    "        y_2  \\\\ \n",
    "        y_3  \\\\\n",
    "        \\vdots \\\\ \n",
    "        y_n\n",
    "    \\end{array} \n",
    "\\right]\n",
    "$$\n",
    "\n",
    "$\\text{where, in our case, }n=2000$"
   ]
  },
  {
   "cell_type": "code",
   "execution_count": 17,
   "id": "7ba44a5e",
   "metadata": {},
   "outputs": [
    {
     "data": {
      "text/plain": [
       "matrix([[2.5],\n",
       "        [3.5],\n",
       "        [4.4],\n",
       "        ...,\n",
       "        [3.5],\n",
       "        [3.9],\n",
       "        [3. ]])"
      ]
     },
     "execution_count": 17,
     "metadata": {},
     "output_type": "execute_result"
    }
   ],
   "source": [
    "y = np.c_[dep_NTU_calc_GPA]\n",
    "y = np.matrix(y)\n",
    "\n",
    "y"
   ]
  },
  {
   "cell_type": "markdown",
   "id": "5e9dbf95",
   "metadata": {},
   "source": [
    "![](https://i.imgur.com/lZgT1vq.png)"
   ]
  },
  {
   "cell_type": "markdown",
   "id": "9e89aa11",
   "metadata": {},
   "source": [
    "$\\text{Let }$\n",
    "\n",
    "$$\\mathbf C=\\mathbf X^{\\text T}\\mathbf X$$"
   ]
  },
  {
   "cell_type": "code",
   "execution_count": 18,
   "id": "912ebcd2",
   "metadata": {},
   "outputs": [
    {
     "data": {
      "text/plain": [
       "matrix([[ 2000.  ,  6949.9 ,  1532.  ,   614.  ],\n",
       "        [ 6949.9 , 24527.27,  5522.8 ,  1998.9 ],\n",
       "        [ 1532.  ,  5522.8 ,  1532.  ,   313.  ],\n",
       "        [  614.  ,  1998.9 ,   313.  ,   614.  ]])"
      ]
     },
     "execution_count": 18,
     "metadata": {},
     "output_type": "execute_result"
    }
   ],
   "source": [
    "C = X.T.dot(X)\n",
    "\n",
    "C"
   ]
  },
  {
   "cell_type": "markdown",
   "id": "4d334fde",
   "metadata": {},
   "source": [
    "$\\text{Find }\\mathbf C^{-1}\\text{ with }$ `np.linalg.inv`"
   ]
  },
  {
   "cell_type": "code",
   "execution_count": 19,
   "id": "8b7bfc64",
   "metadata": {},
   "outputs": [
    {
     "data": {
      "text/plain": [
       "matrix([[ 0.04112435, -0.01206715,  0.0030731 , -0.00340587],\n",
       "        [-0.01206715,  0.00384951, -0.00191458,  0.00051091],\n",
       "        [ 0.0030731 , -0.00191458,  0.00428202,  0.00097704],\n",
       "        [-0.00340587,  0.00051091,  0.00097704,  0.00287318]])"
      ]
     },
     "execution_count": 19,
     "metadata": {},
     "output_type": "execute_result"
    }
   ],
   "source": [
    "C_inv_with_np = np.linalg.inv(C)\n",
    "\n",
    "C_inv_with_np"
   ]
  },
  {
   "cell_type": "markdown",
   "id": "1e897cad",
   "metadata": {},
   "source": [
    "$\\text{Let adj}(\\mathbf C)\\text{ the adjoint matrix of }\\mathbf C$\n",
    "\n",
    "$\\text{To obtain adj}(\\mathbf C)\\text{, we can simply call matrix.H in NumPy.}$"
   ]
  },
  {
   "cell_type": "code",
   "execution_count": 20,
   "id": "dd1e92db",
   "metadata": {},
   "outputs": [
    {
     "data": {
      "text/plain": [
       "matrix([[ 2.73028652e+09, -8.01150003e+08,  2.04025876e+08,\n",
       "         -2.26119353e+08],\n",
       "        [-8.01150002e+08,  2.55573040e+08, -1.27110925e+08,\n",
       "          3.39199860e+07],\n",
       "        [ 2.04025876e+08, -1.27110925e+08,  2.84287388e+08,\n",
       "          6.48667555e+07],\n",
       "        [-2.26119353e+08,  3.39199860e+07,  6.48667555e+07,\n",
       "          1.90752974e+08]])"
      ]
     },
     "execution_count": 20,
     "metadata": {},
     "output_type": "execute_result"
    }
   ],
   "source": [
    "adj_C = make_adjoint_matrix(C)\n",
    "\n",
    "adj_C"
   ]
  },
  {
   "cell_type": "markdown",
   "id": "e989adc4",
   "metadata": {},
   "source": [
    "$\\text{To obtain the inverse matrix of }\\mathbf C, \\mathbf C^{-1}$\n",
    "\n",
    "$\\text{We can use the formula for inverse matrix, which is defined as follows}$\n",
    "\n",
    "$$\\mathbf C^{-1}={1\\over \\det\\mathbf C}\\cdot\\text{adj}(\\mathbf C)$$"
   ]
  },
  {
   "cell_type": "code",
   "execution_count": 21,
   "id": "eee5b78b",
   "metadata": {},
   "outputs": [
    {
     "data": {
      "text/plain": [
       "matrix([[ 0.04112435, -0.01206715,  0.0030731 , -0.00340587],\n",
       "        [-0.01206715,  0.00384951, -0.00191458,  0.00051091],\n",
       "        [ 0.0030731 , -0.00191458,  0.00428202,  0.00097704],\n",
       "        [-0.00340587,  0.00051091,  0.00097704,  0.00287318]])"
      ]
     },
     "execution_count": 21,
     "metadata": {},
     "output_type": "execute_result"
    }
   ],
   "source": [
    "det_C = np.linalg.det(C)\n",
    "C_inv = (1/det_C) * adj_C\n",
    "\n",
    "C_inv"
   ]
  },
  {
   "cell_type": "markdown",
   "id": "902ef2fe",
   "metadata": {},
   "source": [
    "![](https://i.imgur.com/FLk92kJ.png)\n",
    "\n",
    "$$\\hat\\beta=(\\mathbf X^{\\text T}\\mathbf X)^{-1}\\mathbf X^\\text T\\mathbf y$$"
   ]
  },
  {
   "cell_type": "code",
   "execution_count": 22,
   "id": "d3e187fc",
   "metadata": {},
   "outputs": [
    {
     "data": {
      "text/plain": [
       "matrix([[0.24872428],\n",
       "        [0.7062127 ],\n",
       "        [0.32133639],\n",
       "        [0.09455445]])"
      ]
     },
     "execution_count": 22,
     "metadata": {},
     "output_type": "execute_result"
    }
   ],
   "source": [
    "beta_hat = C_inv.dot(X.T).dot(y)\n",
    "\n",
    "beta_hat"
   ]
  },
  {
   "cell_type": "markdown",
   "id": "ed41ac9c",
   "metadata": {},
   "source": [
    "$$\n",
    "\\hat \\beta[i]=\n",
    "\\left\\{\n",
    "    \\begin{matrix}\n",
    "        \\text{the y-intercept of the fitted line} & \\text{ if } & i = 0 \\\\\n",
    "        \\text{the coefficient of the }i\\text{-th term in the formula} & \\text{ if } & i > 0\n",
    "    \\end{matrix}\n",
    "\\right.\n",
    "$$"
   ]
  },
  {
   "cell_type": "markdown",
   "id": "ba1ee405",
   "metadata": {},
   "source": [
    "$\\text{Based on the parameters we obtained above, we can define a best fit function for predictions.}$"
   ]
  },
  {
   "cell_type": "code",
   "execution_count": 23,
   "id": "d069668b",
   "metadata": {},
   "outputs": [],
   "source": [
    "def manual_predict(A: np.array) -> np.array:\n",
    "    return A.dot(beta_hat)"
   ]
  },
  {
   "cell_type": "markdown",
   "id": "b96cf955",
   "metadata": {},
   "source": [
    "$\\text{Residual is defined as follows}$\n",
    "\n",
    "$$r_i=y_i-\\hat{y_i}$$\n",
    "\n",
    "$\\text{We can calculate the residuals by subtracting predicted values from the real values.}$"
   ]
  },
  {
   "cell_type": "code",
   "execution_count": 24,
   "id": "35cb47be",
   "metadata": {},
   "outputs": [
    {
     "data": {
      "text/plain": [
       "matrix([[-0.14984747],\n",
       "        [ 0.01053407],\n",
       "        [ 1.14633106],\n",
       "        ...,\n",
       "        [ 0.24633106],\n",
       "        [ 0.85819487],\n",
       "        [-0.13635958]])"
      ]
     },
     "execution_count": 24,
     "metadata": {},
     "output_type": "execute_result"
    }
   ],
   "source": [
    "residuals = y - manual_predict(X)\n",
    "\n",
    "residuals"
   ]
  },
  {
   "cell_type": "markdown",
   "id": "c44661fd",
   "metadata": {},
   "source": [
    "$\\text{Now, we calculate the residual variances, where a residual variance }{\\hat\\sigma^2}_i\\text{ is defined as}$\n",
    "\n",
    "$${\\hat\\sigma^2}_i=\\sum\\limits_{k=1}^n{(\\bar r_i-r_k)^2\\over n}$$\n",
    "\n",
    "$\\text{where }\\bar r\\text{ is the mean of }\\{r_i\\}_{i=1}^n$\n",
    "\n",
    "$\\text{Let's calculate the means }\\{\\bar r_i\\}_{i=1}^3\\text{ first.}$"
   ]
  },
  {
   "cell_type": "code",
   "execution_count": 25,
   "id": "092c237d",
   "metadata": {},
   "outputs": [
    {
     "data": {
      "text/plain": [
       "-7.059242079776595e-13"
      ]
     },
     "execution_count": 25,
     "metadata": {},
     "output_type": "execute_result"
    }
   ],
   "source": [
    "residual_means = np.mean(residuals)\n",
    "# r bar\n",
    "\n",
    "residual_means"
   ]
  },
  {
   "cell_type": "markdown",
   "id": "733df014",
   "metadata": {},
   "source": [
    "$\\text{Now we can calculate the variance of the residuals with the above results.}$"
   ]
  },
  {
   "cell_type": "code",
   "execution_count": 26,
   "id": "de052483",
   "metadata": {},
   "outputs": [
    {
     "data": {
      "text/plain": [
       "0.24943428221650002"
      ]
     },
     "execution_count": 26,
     "metadata": {},
     "output_type": "execute_result"
    }
   ],
   "source": [
    "residual_variance = np.var(residuals)\n",
    "\n",
    "residual_variance"
   ]
  },
  {
   "cell_type": "markdown",
   "id": "e4c2b0ab",
   "metadata": {},
   "source": [
    "$\\text{We estimate the variance of the residual noise }\\hat\\sigma^2\\text{ (mean squared error) as}$\n",
    "\n",
    "$$\\hat{\\sigma}^2 = \\frac{(\\mathbf{y} - \\mathbf{X} \\cdot \\hat{\\mathbf{\\beta}})^T \\cdot (\\mathbf{y} - \\mathbf{X} \\cdot \\hat{\\mathbf{\\beta}})}{n - p - 1}$$\n",
    "\n",
    "$\\text{where }n=2000\\text{ and }p=3\\text{ in our case.}$"
   ]
  },
  {
   "cell_type": "code",
   "execution_count": 27,
   "id": "d3a6b34f",
   "metadata": {},
   "outputs": [
    {
     "data": {
      "text/plain": [
       "0.24968396618268265"
      ]
     },
     "execution_count": 27,
     "metadata": {},
     "output_type": "execute_result"
    }
   ],
   "source": [
    "mean_squared_error = (residuals).T.dot(residuals) / (N-2)\n",
    "mean_squared_error = float(mean_squared_error[0][0])\n",
    "\n",
    "mean_squared_error"
   ]
  },
  {
   "cell_type": "markdown",
   "id": "acfe63ed",
   "metadata": {},
   "source": [
    "$\\text{We get estimated covariances for linear regression coefficient estimates using the following formula}$\n",
    "\n",
    "$$\\widehat{\\text{Var}}(\\hat{\\mathbf{\\beta}}) = \\hat{\\sigma}^2  \\left(\\mathbf{X}^T \\cdot \\mathbf{X} \\right)^{-1}$$"
   ]
  },
  {
   "cell_type": "code",
   "execution_count": 28,
   "id": "ace22c97",
   "metadata": {},
   "outputs": [
    {
     "data": {
      "text/plain": [
       "matrix([[ 0.01026809, -0.00301297,  0.0007673 , -0.00085039],\n",
       "        [-0.00301297,  0.00096116, -0.00047804,  0.00012757],\n",
       "        [ 0.0007673 , -0.00047804,  0.00106915,  0.00024395],\n",
       "        [-0.00085039,  0.00012757,  0.00024395,  0.00071739]])"
      ]
     },
     "execution_count": 28,
     "metadata": {},
     "output_type": "execute_result"
    }
   ],
   "source": [
    "cov_beta_hat = mean_squared_error * C_inv\n",
    "\n",
    "cov_beta_hat"
   ]
  },
  {
   "cell_type": "markdown",
   "id": "60cf37d5",
   "metadata": {},
   "source": [
    "$\\text{We then take the square root of the diagonal of }\\widehat{\\text{Var}(\\hat\\beta)}\\text{ to get the standard errors for each coefficient.}$"
   ]
  },
  {
   "cell_type": "code",
   "execution_count": 29,
   "id": "5cfd985b",
   "metadata": {},
   "outputs": [
    {
     "data": {
      "text/plain": [
       "array([0.10133159, 0.03100261, 0.03269787, 0.02678406])"
      ]
     },
     "execution_count": 29,
     "metadata": {},
     "output_type": "execute_result"
    }
   ],
   "source": [
    "standard_errors = np.sqrt(cov_beta_hat.diagonal()).getA()[0, :]\n",
    "\n",
    "standard_errors"
   ]
  },
  {
   "cell_type": "markdown",
   "id": "50b8fe40",
   "metadata": {},
   "source": [
    "![](https://i.imgur.com/YzXtaOL.png)\n"
   ]
  },
  {
   "cell_type": "markdown",
   "id": "f4ae00e3",
   "metadata": {},
   "source": [
    "$\\text{Prepare the three columns.}$"
   ]
  },
  {
   "cell_type": "code",
   "execution_count": 30,
   "id": "8c087e67",
   "metadata": {},
   "outputs": [
    {
     "data": {
      "text/plain": [
       "(array([0.3, 0.7, 0.3, 0.1]),\n",
       " matrix([[0.24872428],\n",
       "         [0.7062127 ],\n",
       "         [0.32133639],\n",
       "         [0.09455445]]),\n",
       " array([0.24872428, 0.7062127 , 0.32133639, 0.09455445]))"
      ]
     },
     "execution_count": 30,
     "metadata": {},
     "output_type": "execute_result"
    }
   ],
   "source": [
    "true_params      = np.array([ .3, .7, .3, .1 ])\n",
    "manual_params    = beta_hat\n",
    "lm_fitted_params = np.array(result.params)\n",
    "\n",
    "true_params, manual_params, lm_fitted_params"
   ]
  },
  {
   "cell_type": "markdown",
   "id": "d589ff55",
   "metadata": {},
   "source": [
    "$\\text{Create the comparison matrix.}$"
   ]
  },
  {
   "cell_type": "code",
   "execution_count": 31,
   "id": "09702cf9",
   "metadata": {},
   "outputs": [
    {
     "data": {
      "text/html": [
       "<div>\n",
       "<style scoped>\n",
       "    .dataframe tbody tr th:only-of-type {\n",
       "        vertical-align: middle;\n",
       "    }\n",
       "\n",
       "    .dataframe tbody tr th {\n",
       "        vertical-align: top;\n",
       "    }\n",
       "\n",
       "    .dataframe thead th {\n",
       "        text-align: right;\n",
       "    }\n",
       "</style>\n",
       "<table border=\"1\" class=\"dataframe\">\n",
       "  <thead>\n",
       "    <tr style=\"text-align: right;\">\n",
       "      <th></th>\n",
       "      <th>Truth</th>\n",
       "      <th>Manual</th>\n",
       "      <th>lm</th>\n",
       "    </tr>\n",
       "  </thead>\n",
       "  <tbody>\n",
       "    <tr>\n",
       "      <th>Intercept</th>\n",
       "      <td>0.3</td>\n",
       "      <td>0.248724</td>\n",
       "      <td>0.248724</td>\n",
       "    </tr>\n",
       "    <tr>\n",
       "      <th>High_School_Math_GPA</th>\n",
       "      <td>0.7</td>\n",
       "      <td>0.706213</td>\n",
       "      <td>0.706213</td>\n",
       "    </tr>\n",
       "    <tr>\n",
       "      <th>Took_High_School_Calculus</th>\n",
       "      <td>0.3</td>\n",
       "      <td>0.321336</td>\n",
       "      <td>0.321336</td>\n",
       "    </tr>\n",
       "    <tr>\n",
       "      <th>Took_NTU_Precalculus</th>\n",
       "      <td>0.1</td>\n",
       "      <td>0.094554</td>\n",
       "      <td>0.094554</td>\n",
       "    </tr>\n",
       "  </tbody>\n",
       "</table>\n",
       "</div>"
      ],
      "text/plain": [
       "                           Truth    Manual        lm\n",
       "Intercept                    0.3  0.248724  0.248724\n",
       "High_School_Math_GPA         0.7  0.706213  0.706213\n",
       "Took_High_School_Calculus    0.3  0.321336  0.321336\n",
       "Took_NTU_Precalculus         0.1  0.094554  0.094554"
      ]
     },
     "execution_count": 31,
     "metadata": {},
     "output_type": "execute_result"
    }
   ],
   "source": [
    "comp_coef_df         = pd.DataFrame(np.c_[true_params, manual_params, lm_fitted_params])\n",
    "comp_coef_df.index   = ['Intercept', *[ k for k in calc_dict if k != 'NTU_Calculus_GPA' ] ]\n",
    "comp_coef_df.columns = ['Truth', 'Manual', 'lm']\n",
    "\n",
    "comp_coef_df"
   ]
  },
  {
   "cell_type": "markdown",
   "id": "1cbc9158",
   "metadata": {},
   "source": [
    "$\\text{Observation:}$\n",
    "\n",
    "$\\text{We got the exactly the same results from calling the }$ `lm` $\\text{ function and from scratch!}$"
   ]
  },
  {
   "cell_type": "markdown",
   "id": "f9da146a",
   "metadata": {},
   "source": [
    "![](https://i.imgur.com/lGSzwtC.png)"
   ]
  },
  {
   "cell_type": "markdown",
   "id": "c5265b7d",
   "metadata": {},
   "source": [
    "$\\text{Prepare the three columns.}$"
   ]
  },
  {
   "cell_type": "code",
   "execution_count": 32,
   "id": "b4abb609",
   "metadata": {},
   "outputs": [
    {
     "data": {
      "text/plain": [
       "(array([0.1013957 , 0.03102222, 0.03271856, 0.026801  ]),\n",
       " array([0.10133159, 0.03100261, 0.03269787, 0.02678406]),\n",
       " array([0.10138234, 0.03101814, 0.03271425, 0.02679747]))"
      ]
     },
     "execution_count": 32,
     "metadata": {},
     "output_type": "execute_result"
    }
   ],
   "source": [
    "true_cov   = (TRUE_SIGMA ** 2) * C_inv\n",
    "\n",
    "true_stderrs   = np.array(np.sqrt(true_cov.diagonal()).getA()[0, :])\n",
    "manual_stderrs = np.array(standard_errors)\n",
    "lm_stderrs     = np.array(result.bse)\n",
    "\n",
    "true_stderrs, manual_stderrs, lm_stderrs"
   ]
  },
  {
   "cell_type": "markdown",
   "id": "d57f0a6e",
   "metadata": {},
   "source": [
    "$\\text{Create the comparison matrix.}$"
   ]
  },
  {
   "cell_type": "code",
   "execution_count": 33,
   "id": "ada7172f",
   "metadata": {},
   "outputs": [
    {
     "data": {
      "text/html": [
       "<div>\n",
       "<style scoped>\n",
       "    .dataframe tbody tr th:only-of-type {\n",
       "        vertical-align: middle;\n",
       "    }\n",
       "\n",
       "    .dataframe tbody tr th {\n",
       "        vertical-align: top;\n",
       "    }\n",
       "\n",
       "    .dataframe thead th {\n",
       "        text-align: right;\n",
       "    }\n",
       "</style>\n",
       "<table border=\"1\" class=\"dataframe\">\n",
       "  <thead>\n",
       "    <tr style=\"text-align: right;\">\n",
       "      <th></th>\n",
       "      <th>Truth</th>\n",
       "      <th>Manual</th>\n",
       "      <th>lm</th>\n",
       "    </tr>\n",
       "  </thead>\n",
       "  <tbody>\n",
       "    <tr>\n",
       "      <th>Intercept</th>\n",
       "      <td>0.101396</td>\n",
       "      <td>0.101332</td>\n",
       "      <td>0.101382</td>\n",
       "    </tr>\n",
       "    <tr>\n",
       "      <th>High_School_Math_GPA</th>\n",
       "      <td>0.031022</td>\n",
       "      <td>0.031003</td>\n",
       "      <td>0.031018</td>\n",
       "    </tr>\n",
       "    <tr>\n",
       "      <th>Took_High_School_Calculus</th>\n",
       "      <td>0.032719</td>\n",
       "      <td>0.032698</td>\n",
       "      <td>0.032714</td>\n",
       "    </tr>\n",
       "    <tr>\n",
       "      <th>Took_NTU_Precalculus</th>\n",
       "      <td>0.026801</td>\n",
       "      <td>0.026784</td>\n",
       "      <td>0.026797</td>\n",
       "    </tr>\n",
       "  </tbody>\n",
       "</table>\n",
       "</div>"
      ],
      "text/plain": [
       "                              Truth    Manual        lm\n",
       "Intercept                  0.101396  0.101332  0.101382\n",
       "High_School_Math_GPA       0.031022  0.031003  0.031018\n",
       "Took_High_School_Calculus  0.032719  0.032698  0.032714\n",
       "Took_NTU_Precalculus       0.026801  0.026784  0.026797"
      ]
     },
     "execution_count": 33,
     "metadata": {},
     "output_type": "execute_result"
    }
   ],
   "source": [
    "comp_stderr_df         = pd.DataFrame( np.c_[true_stderrs, manual_stderrs, lm_stderrs] )\n",
    "comp_stderr_df.index   = [ 'Intercept', *(list(calc_dict.keys())[1:]) ]\n",
    "comp_stderr_df.columns = ['Truth', 'Manual', 'lm']\n",
    "\n",
    "comp_stderr_df"
   ]
  },
  {
   "cell_type": "markdown",
   "id": "37832de7",
   "metadata": {},
   "source": [
    "$\\text{Observation:}$\n",
    "\n",
    "$\\text{We got the almost the same results from calling the }$ `lm` $\\text{ function and from scratch!}$"
   ]
  },
  {
   "cell_type": "markdown",
   "id": "7a30238f",
   "metadata": {},
   "source": [
    "![](https://i.imgur.com/exLW5QJ.png)"
   ]
  },
  {
   "cell_type": "markdown",
   "id": "d4450030",
   "metadata": {},
   "source": [
    "$\\text{Prepare the three columns.}$"
   ]
  },
  {
   "cell_type": "code",
   "execution_count": 34,
   "id": "b0a88f99",
   "metadata": {},
   "outputs": [
    {
     "data": {
      "text/plain": [
       "(0.25, 0.24943428221650002, 0.24943428221650005)"
      ]
     },
     "execution_count": 34,
     "metadata": {},
     "output_type": "execute_result"
    }
   ],
   "source": [
    "true_resid_var   = TRUE_SIGMA ** 2\n",
    "manual_resid_var = residual_variance\n",
    "lm_resid_var     = np.var(result.resid)\n",
    "\n",
    "true_resid_var, manual_resid_var, lm_resid_var"
   ]
  },
  {
   "cell_type": "markdown",
   "id": "57dcaa4d",
   "metadata": {},
   "source": [
    "$\\text{Create the comparison matrix.}$"
   ]
  },
  {
   "cell_type": "code",
   "execution_count": 35,
   "id": "d4e3aac6",
   "metadata": {},
   "outputs": [
    {
     "data": {
      "text/html": [
       "<div>\n",
       "<style scoped>\n",
       "    .dataframe tbody tr th:only-of-type {\n",
       "        vertical-align: middle;\n",
       "    }\n",
       "\n",
       "    .dataframe tbody tr th {\n",
       "        vertical-align: top;\n",
       "    }\n",
       "\n",
       "    .dataframe thead th {\n",
       "        text-align: right;\n",
       "    }\n",
       "</style>\n",
       "<table border=\"1\" class=\"dataframe\">\n",
       "  <thead>\n",
       "    <tr style=\"text-align: right;\">\n",
       "      <th></th>\n",
       "      <th>Truth</th>\n",
       "      <th>Manual</th>\n",
       "      <th>lm</th>\n",
       "    </tr>\n",
       "  </thead>\n",
       "  <tbody>\n",
       "    <tr>\n",
       "      <th>Residual Variance</th>\n",
       "      <td>0.25</td>\n",
       "      <td>0.249434</td>\n",
       "      <td>0.249434</td>\n",
       "    </tr>\n",
       "  </tbody>\n",
       "</table>\n",
       "</div>"
      ],
      "text/plain": [
       "                   Truth    Manual        lm\n",
       "Residual Variance   0.25  0.249434  0.249434"
      ]
     },
     "execution_count": 35,
     "metadata": {},
     "output_type": "execute_result"
    }
   ],
   "source": [
    "comp_resid_var_df         = pd.DataFrame(np.c_[true_resid_var, manual_resid_var, lm_resid_var])\n",
    "\n",
    "comp_resid_var_df.index   = ['Residual Variance']\n",
    "comp_resid_var_df.columns = ['Truth', 'Manual', 'lm']\n",
    "\n",
    "comp_resid_var_df"
   ]
  },
  {
   "cell_type": "markdown",
   "id": "7141b6b4",
   "metadata": {},
   "source": [
    "$\\text{Observation:}$\n",
    "\n",
    "$\\text{We got the almost the same results from calling the }$ `lm` $\\text{ function and from scratch!}$"
   ]
  },
  {
   "cell_type": "markdown",
   "id": "32c4e4c8",
   "metadata": {},
   "source": [
    "![](https://i.imgur.com/s6m1Te3.png)"
   ]
  },
  {
   "cell_type": "markdown",
   "id": "fb6b7bd0",
   "metadata": {},
   "source": [
    "$\\text{First, let's create a matrix representing the stats of the new student.}$"
   ]
  },
  {
   "cell_type": "code",
   "execution_count": 36,
   "id": "87460a6a",
   "metadata": {},
   "outputs": [
    {
     "data": {
      "text/plain": [
       "array([[1.      , 3.123456, 1.      , 0.      ]])"
      ]
     },
     "execution_count": 36,
     "metadata": {},
     "output_type": "execute_result"
    }
   ],
   "source": [
    "new_student = np.array( [[ 1, 3.123456, 1, 0 ]] )\n",
    "\n",
    "new_student"
   ]
  },
  {
   "cell_type": "markdown",
   "id": "0acf59ef",
   "metadata": {},
   "source": [
    "$\\text{Now, let's see the predictions of the manual and lm models on the given new student matrix.}$"
   ]
  },
  {
   "cell_type": "code",
   "execution_count": 37,
   "id": "d3304394",
   "metadata": {},
   "outputs": [
    {
     "data": {
      "text/plain": [
       "(matrix([[2.77588497]]), array([2.77588497]))"
      ]
     },
     "execution_count": 37,
     "metadata": {},
     "output_type": "execute_result"
    }
   ],
   "source": [
    "manual_predict(new_student), lm_predict(new_student)"
   ]
  },
  {
   "cell_type": "markdown",
   "id": "1b250d5c",
   "metadata": {},
   "source": [
    "$\\text{The two models gave the same predictions.}$"
   ]
  }
 ],
 "metadata": {
  "kernelspec": {
   "display_name": "Python 3 (ipykernel)",
   "language": "python",
   "name": "python3"
  },
  "language_info": {
   "codemirror_mode": {
    "name": "ipython",
    "version": 3
   },
   "file_extension": ".py",
   "mimetype": "text/x-python",
   "name": "python",
   "nbconvert_exporter": "python",
   "pygments_lexer": "ipython3",
   "version": "3.9.7"
  }
 },
 "nbformat": 4,
 "nbformat_minor": 5
}
